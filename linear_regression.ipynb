{
 "cells": [
  {
   "cell_type": "markdown",
   "id": "ea4005dc",
   "metadata": {},
   "source": [
    "Предсказание длительности поездки на такси"
   ]
  },
  {
   "cell_type": "code",
   "execution_count": 12,
   "id": "245b8523",
   "metadata": {},
   "outputs": [
    {
     "name": "stdout",
     "output_type": "stream",
     "text": [
      "✅ kaggle.json успешно установлен!\n"
     ]
    }
   ],
   "source": [
    "import os\n",
    "import shutil\n",
    "\n",
    "source = \"/Users/ildargarifullin/Developer/work python/LinearRegression/kaggle.json\"\n",
    "\n",
    "destination_dir = os.path.expanduser(\"~/.kaggle\")\n",
    "destination = os.path.join(destination_dir, \"kaggle.json\")\n",
    "\n",
    "os.makedirs(destination_dir, exist_ok=True)\n",
    "\n",
    "shutil.copy(source, destination)\n",
    "\n",
    "os.chmod(destination, 0o600)\n",
    "\n",
    "print(\"✅ kaggle.json успешно установлен!\")\n"
   ]
  },
  {
   "cell_type": "code",
   "execution_count": 16,
   "id": "a40e01e5",
   "metadata": {},
   "outputs": [
    {
     "name": "stdout",
     "output_type": "stream",
     "text": [
      "Collecting kaggle\n",
      "  Using cached kaggle-1.7.4.5-py3-none-any.whl.metadata (16 kB)\n",
      "Collecting bleach (from kaggle)\n",
      "  Using cached bleach-6.2.0-py3-none-any.whl.metadata (30 kB)\n",
      "Requirement already satisfied: certifi>=14.05.14 in /Library/Frameworks/Python.framework/Versions/3.12/lib/python3.12/site-packages (from kaggle) (2025.10.5)\n",
      "Requirement already satisfied: charset-normalizer in /Library/Frameworks/Python.framework/Versions/3.12/lib/python3.12/site-packages (from kaggle) (3.4.3)\n",
      "Requirement already satisfied: idna in /Library/Frameworks/Python.framework/Versions/3.12/lib/python3.12/site-packages (from kaggle) (3.10)\n",
      "Collecting protobuf (from kaggle)\n",
      "  Using cached protobuf-6.32.1-cp39-abi3-macosx_10_9_universal2.whl.metadata (593 bytes)\n",
      "Requirement already satisfied: python-dateutil>=2.5.3 in /Users/ildargarifullin/Library/Python/3.12/lib/python/site-packages (from kaggle) (2.9.0.post0)\n",
      "Collecting python-slugify (from kaggle)\n",
      "  Using cached python_slugify-8.0.4-py2.py3-none-any.whl.metadata (8.5 kB)\n",
      "Requirement already satisfied: requests in /Library/Frameworks/Python.framework/Versions/3.12/lib/python3.12/site-packages (from kaggle) (2.32.5)\n",
      "Collecting setuptools>=21.0.0 (from kaggle)\n",
      "  Using cached setuptools-80.9.0-py3-none-any.whl.metadata (6.6 kB)\n",
      "Requirement already satisfied: six>=1.10 in /Users/ildargarifullin/Library/Python/3.12/lib/python/site-packages (from kaggle) (1.17.0)\n",
      "Collecting text-unidecode (from kaggle)\n",
      "  Using cached text_unidecode-1.3-py2.py3-none-any.whl.metadata (2.4 kB)\n",
      "Requirement already satisfied: tqdm in /Library/Frameworks/Python.framework/Versions/3.12/lib/python3.12/site-packages (from kaggle) (4.67.1)\n",
      "Requirement already satisfied: urllib3>=1.15.1 in /Library/Frameworks/Python.framework/Versions/3.12/lib/python3.12/site-packages (from kaggle) (2.5.0)\n",
      "Collecting webencodings (from kaggle)\n",
      "  Using cached webencodings-0.5.1-py2.py3-none-any.whl.metadata (2.1 kB)\n",
      "Using cached kaggle-1.7.4.5-py3-none-any.whl (181 kB)\n",
      "Using cached setuptools-80.9.0-py3-none-any.whl (1.2 MB)\n",
      "Using cached bleach-6.2.0-py3-none-any.whl (163 kB)\n",
      "Using cached protobuf-6.32.1-cp39-abi3-macosx_10_9_universal2.whl (426 kB)\n",
      "Using cached python_slugify-8.0.4-py2.py3-none-any.whl (10 kB)\n",
      "Using cached text_unidecode-1.3-py2.py3-none-any.whl (78 kB)\n",
      "Using cached webencodings-0.5.1-py2.py3-none-any.whl (11 kB)\n",
      "Installing collected packages: webencodings, text-unidecode, setuptools, python-slugify, protobuf, bleach, kaggle\n",
      "\u001b[2K   \u001b[91m━━━━━━━━━━━\u001b[0m\u001b[90m╺\u001b[0m\u001b[90m━━━━━━━━━━━━━━━━━━━━━━━━━━━━\u001b[0m \u001b[32m2/7\u001b[0m [setuptools]\u001b[33m  WARNING: The script slugify is installed in '/Library/Frameworks/Python.framework/Versions/3.12/bin' which is not on PATH.\n",
      "  Consider adding this directory to PATH or, if you prefer to suppress this warning, use --no-warn-script-location.\u001b[0m\u001b[33m\n",
      "\u001b[2K   \u001b[91m━━━━━━━━━━━━━━━━━━━━━━━━━━━━━━━━━━\u001b[0m\u001b[90m╺\u001b[0m\u001b[90m━━━━━\u001b[0m \u001b[32m6/7\u001b[0m [kaggle]f]\u001b[33m  WARNING: The script kaggle is installed in '/Library/Frameworks/Python.framework/Versions/3.12/bin' which is not on PATH.\n",
      "  Consider adding this directory to PATH or, if you prefer to suppress this warning, use --no-warn-script-location.\u001b[0m\u001b[33m\n",
      "\u001b[2K   \u001b[90m━━━━━━━━━━━━━━━━━━━━━━━━━━━━━━━━━━━━━━━━\u001b[0m \u001b[32m7/7\u001b[0m [kaggle]\n",
      "\u001b[1A\u001b[2KSuccessfully installed bleach-6.2.0 kaggle-1.7.4.5 protobuf-6.32.1 python-slugify-8.0.4 setuptools-80.9.0 text-unidecode-1.3 webencodings-0.5.1\n",
      "Note: you may need to restart the kernel to use updated packages.\n"
     ]
    }
   ],
   "source": [
    "%pip install kaggle"
   ]
  },
  {
   "cell_type": "code",
   "execution_count": 21,
   "id": "8eaf93e9",
   "metadata": {},
   "outputs": [
    {
     "name": "stdout",
     "output_type": "stream",
     "text": [
      "ref                                                           title                                                    size  lastUpdated                 downloadCount  voteCount  usabilityRating  \n",
      "------------------------------------------------------------  -------------------------------------------------  ----------  --------------------------  -------------  ---------  ---------------  \n",
      "ahmadrazakashif/bmw-worldwide-sales-records-20102024          BMW Worldwide Sales Records (2010–2024)                853348  2025-09-20 14:39:45.280000           9449        207  1.0              \n",
      "jockeroika/life-style-data                                    Life Style Data                                       3995645  2025-10-14 13:50:45.303000           4492        106  0.8235294        \n",
      "ahmeduzaki/global-earthquake-tsunami-risk-assessment-dataset  Global Earthquake-Tsunami Risk Assessment Dataset       16151  2025-10-01 16:35:53.273000           3308        119  1.0              \n",
      "jaderz/hospital-beds-management                               Hospital Beds Management                                47583  2025-10-03 09:21:58.590000           2698         72  1.0              \n",
      "grandmaster07/student-exam-score-dataset-analysis             Student exam score dataset analysis                      2430  2025-09-26 07:44:12.677000           4038         89  1.0              \n",
      "anassarfraz13/coffee-sales-dataset                            Coffee Sales Dataset                                    38970  2025-09-23 09:50:57.187000           3280         73  1.0              \n",
      "raghavdharwal/amazon-ml-challenge-2025                        Amazon ML Challenge 2025                             49977798  2025-10-11 01:51:41.403000            927         24  1.0              \n",
      "emanfatima2025/youtube-music-hits-top-100-of-2025             YouTube Music Hits: Top 100 of 2025                     78598  2025-09-28 16:33:54.697000           1090         22  1.0              \n"
     ]
    }
   ],
   "source": [
    "!kaggle datasets list | head"
   ]
  },
  {
   "cell_type": "code",
   "execution_count": 28,
   "id": "3f459a94",
   "metadata": {},
   "outputs": [
    {
     "name": "stdout",
     "output_type": "stream",
     "text": [
      "Downloading nyc-taxi-trip-duration.zip to /Users/ildargarifullin/Developer/work python/LinearRegression\n",
      "  0%|                                               | 0.00/85.8M [00:00<?, ?B/s]\n",
      "100%|██████████████████████████████████████| 85.8M/85.8M [00:00<00:00, 1.58GB/s]\n"
     ]
    }
   ],
   "source": [
    "!kaggle competitions download -c nyc-taxi-trip-duration"
   ]
  },
  {
   "cell_type": "markdown",
   "id": "89492ae6",
   "metadata": {},
   "source": [
    "Распакую полученные данные"
   ]
  },
  {
   "cell_type": "code",
   "execution_count": 29,
   "id": "89664dc6",
   "metadata": {},
   "outputs": [
    {
     "name": "stdout",
     "output_type": "stream",
     "text": [
      "Archive:  nyc-taxi-trip-duration.zip\n",
      "  inflating: sample_submission.zip   \n",
      "  inflating: test.zip                \n",
      "  inflating: train.zip               \n"
     ]
    }
   ],
   "source": [
    "!unzip nyc-taxi-trip-duration.zip"
   ]
  },
  {
   "cell_type": "markdown",
   "id": "3ea0e1de",
   "metadata": {},
   "source": [
    "Работа только с train частью, тк там есть значения предсказываемой переменной"
   ]
  },
  {
   "cell_type": "code",
   "execution_count": 30,
   "id": "e695e739",
   "metadata": {},
   "outputs": [],
   "source": [
    "import pandas as pd\n",
    "import seaborn as sns\n",
    "from matplotlib import pyplot as plt\n",
    "\n",
    "df = pd.read_csv('train.zip', compression='zip', header=0, sep=',', quotechar='\"')"
   ]
  },
  {
   "cell_type": "code",
   "execution_count": 31,
   "id": "13604f3b",
   "metadata": {},
   "outputs": [
    {
     "data": {
      "text/html": [
       "<div>\n",
       "<style scoped>\n",
       "    .dataframe tbody tr th:only-of-type {\n",
       "        vertical-align: middle;\n",
       "    }\n",
       "\n",
       "    .dataframe tbody tr th {\n",
       "        vertical-align: top;\n",
       "    }\n",
       "\n",
       "    .dataframe thead th {\n",
       "        text-align: right;\n",
       "    }\n",
       "</style>\n",
       "<table border=\"1\" class=\"dataframe\">\n",
       "  <thead>\n",
       "    <tr style=\"text-align: right;\">\n",
       "      <th></th>\n",
       "      <th>id</th>\n",
       "      <th>vendor_id</th>\n",
       "      <th>pickup_datetime</th>\n",
       "      <th>dropoff_datetime</th>\n",
       "      <th>passenger_count</th>\n",
       "      <th>pickup_longitude</th>\n",
       "      <th>pickup_latitude</th>\n",
       "      <th>dropoff_longitude</th>\n",
       "      <th>dropoff_latitude</th>\n",
       "      <th>store_and_fwd_flag</th>\n",
       "      <th>trip_duration</th>\n",
       "    </tr>\n",
       "  </thead>\n",
       "  <tbody>\n",
       "    <tr>\n",
       "      <th>0</th>\n",
       "      <td>id2875421</td>\n",
       "      <td>2</td>\n",
       "      <td>2016-03-14 17:24:55</td>\n",
       "      <td>2016-03-14 17:32:30</td>\n",
       "      <td>1</td>\n",
       "      <td>-73.982155</td>\n",
       "      <td>40.767937</td>\n",
       "      <td>-73.964630</td>\n",
       "      <td>40.765602</td>\n",
       "      <td>N</td>\n",
       "      <td>455</td>\n",
       "    </tr>\n",
       "    <tr>\n",
       "      <th>1</th>\n",
       "      <td>id2377394</td>\n",
       "      <td>1</td>\n",
       "      <td>2016-06-12 00:43:35</td>\n",
       "      <td>2016-06-12 00:54:38</td>\n",
       "      <td>1</td>\n",
       "      <td>-73.980415</td>\n",
       "      <td>40.738564</td>\n",
       "      <td>-73.999481</td>\n",
       "      <td>40.731152</td>\n",
       "      <td>N</td>\n",
       "      <td>663</td>\n",
       "    </tr>\n",
       "    <tr>\n",
       "      <th>2</th>\n",
       "      <td>id3858529</td>\n",
       "      <td>2</td>\n",
       "      <td>2016-01-19 11:35:24</td>\n",
       "      <td>2016-01-19 12:10:48</td>\n",
       "      <td>1</td>\n",
       "      <td>-73.979027</td>\n",
       "      <td>40.763939</td>\n",
       "      <td>-74.005333</td>\n",
       "      <td>40.710087</td>\n",
       "      <td>N</td>\n",
       "      <td>2124</td>\n",
       "    </tr>\n",
       "    <tr>\n",
       "      <th>3</th>\n",
       "      <td>id3504673</td>\n",
       "      <td>2</td>\n",
       "      <td>2016-04-06 19:32:31</td>\n",
       "      <td>2016-04-06 19:39:40</td>\n",
       "      <td>1</td>\n",
       "      <td>-74.010040</td>\n",
       "      <td>40.719971</td>\n",
       "      <td>-74.012268</td>\n",
       "      <td>40.706718</td>\n",
       "      <td>N</td>\n",
       "      <td>429</td>\n",
       "    </tr>\n",
       "    <tr>\n",
       "      <th>4</th>\n",
       "      <td>id2181028</td>\n",
       "      <td>2</td>\n",
       "      <td>2016-03-26 13:30:55</td>\n",
       "      <td>2016-03-26 13:38:10</td>\n",
       "      <td>1</td>\n",
       "      <td>-73.973053</td>\n",
       "      <td>40.793209</td>\n",
       "      <td>-73.972923</td>\n",
       "      <td>40.782520</td>\n",
       "      <td>N</td>\n",
       "      <td>435</td>\n",
       "    </tr>\n",
       "  </tbody>\n",
       "</table>\n",
       "</div>"
      ],
      "text/plain": [
       "          id  vendor_id      pickup_datetime     dropoff_datetime  \\\n",
       "0  id2875421          2  2016-03-14 17:24:55  2016-03-14 17:32:30   \n",
       "1  id2377394          1  2016-06-12 00:43:35  2016-06-12 00:54:38   \n",
       "2  id3858529          2  2016-01-19 11:35:24  2016-01-19 12:10:48   \n",
       "3  id3504673          2  2016-04-06 19:32:31  2016-04-06 19:39:40   \n",
       "4  id2181028          2  2016-03-26 13:30:55  2016-03-26 13:38:10   \n",
       "\n",
       "   passenger_count  pickup_longitude  pickup_latitude  dropoff_longitude  \\\n",
       "0                1        -73.982155        40.767937         -73.964630   \n",
       "1                1        -73.980415        40.738564         -73.999481   \n",
       "2                1        -73.979027        40.763939         -74.005333   \n",
       "3                1        -74.010040        40.719971         -74.012268   \n",
       "4                1        -73.973053        40.793209         -73.972923   \n",
       "\n",
       "   dropoff_latitude store_and_fwd_flag  trip_duration  \n",
       "0         40.765602                  N            455  \n",
       "1         40.731152                  N            663  \n",
       "2         40.710087                  N           2124  \n",
       "3         40.706718                  N            429  \n",
       "4         40.782520                  N            435  "
      ]
     },
     "execution_count": 31,
     "metadata": {},
     "output_type": "execute_result"
    }
   ],
   "source": [
    "df.head()"
   ]
  },
  {
   "cell_type": "markdown",
   "id": "44ae4c79",
   "metadata": {},
   "source": [
    "Следует удалить столбец dropoff_datetime тк это время конца поездки, зная его и время начала поездки, можно легко вычилить время поездки"
   ]
  },
  {
   "cell_type": "markdown",
   "id": "efdc46f6",
   "metadata": {},
   "source": [
    "Во время предсказания время окончания поездки (dropoff_datetime) не может быть доступно"
   ]
  },
  {
   "cell_type": "code",
   "execution_count": 33,
   "id": "7ce42fb0",
   "metadata": {},
   "outputs": [],
   "source": [
    "df = df.drop('dropoff_datetime', axis=1)"
   ]
  },
  {
   "cell_type": "markdown",
   "id": "50d9a94a",
   "metadata": {},
   "source": [
    "Когда у данных есть дата, появляется временная размерность. Разбиение данных на train и test становится не очевидным. Тк строить модель мы хотим по прошлым данным и работать с ней в будущем. Для train данные берем начиная с какой-то даты до некотрой заранее обусловленной и для test пойдут данные (поездки), которые произошли после этой обусловленной даты"
   ]
  },
  {
   "cell_type": "markdown",
   "id": "e9a98314",
   "metadata": {},
   "source": [
    "Возможно сортировка данных по определенному столбцу, в нашем случае по дате начала поездки"
   ]
  },
  {
   "cell_type": "code",
   "execution_count": 35,
   "id": "e61304a8",
   "metadata": {},
   "outputs": [],
   "source": [
    "df = df.sort_values(by='pickup_datetime')"
   ]
  },
  {
   "cell_type": "markdown",
   "id": "d9e77fdf",
   "metadata": {},
   "source": [
    "Разбиваю данные на train и test"
   ]
  },
  {
   "cell_type": "code",
   "execution_count": 36,
   "id": "ee04ef6f",
   "metadata": {},
   "outputs": [],
   "source": [
    "train_df, test_df = df[:10 ** 6], df[10 ** 6:]"
   ]
  },
  {
   "cell_type": "code",
   "execution_count": 37,
   "id": "a64e06a0",
   "metadata": {},
   "outputs": [
    {
     "data": {
      "text/plain": [
       "(458644, 1000000)"
      ]
     },
     "execution_count": 37,
     "metadata": {},
     "output_type": "execute_result"
    }
   ],
   "source": [
    "len(test_df), len(train_df)"
   ]
  },
  {
   "cell_type": "markdown",
   "id": "a6479d53",
   "metadata": {},
   "source": [
    "Распределение target переменной "
   ]
  },
  {
   "cell_type": "code",
   "execution_count": 39,
   "id": "35a01290",
   "metadata": {},
   "outputs": [
    {
     "data": {
      "text/plain": [
       "<Axes: >"
      ]
     },
     "execution_count": 39,
     "metadata": {},
     "output_type": "execute_result"
    },
    {
     "data": {
      "image/png": "[encoded data removed]",
      "text/plain": [
       "<Figure size 640x480 with 1 Axes>"
      ]
     },
     "metadata": {},
     "output_type": "display_data"
    }
   ],
   "source": [
    "train_df.trip_duration.hist(bins=30)"
   ]
  },
  {
   "cell_type": "markdown",
   "id": "eb5ab4d2",
   "metadata": {},
   "source": [
    "Если данные сконцентрированы в самом начале (0) и имеют большие выбросы, то полезно посмотреть на логарифм этих данных, который может дать более подробное представление о том, как эти данные устроены"
   ]
  },
  {
   "cell_type": "code",
   "execution_count": 40,
   "id": "7fb6e634",
   "metadata": {},
   "outputs": [],
   "source": [
    "import numpy as np"
   ]
  },
  {
   "cell_type": "markdown",
   "id": "cd0d43cd",
   "metadata": {},
   "source": [
    "log1p() - логариф + 1, для того чтобы увидеть данные, которые содержат 0. Например поездка завершилась сразу же (отказ от поездки и прочее). Чтобы не получить log 0 прибавляю единицу"
   ]
  },
  {
   "cell_type": "code",
   "execution_count": 43,
   "id": "e5f80b89",
   "metadata": {},
   "outputs": [
    {
     "data": {
      "text/plain": [
       "<Axes: >"
      ]
     },
     "execution_count": 43,
     "metadata": {},
     "output_type": "execute_result"
    },
    {
     "data": {
      "image/png": "[encoded data removed]",
      "text/plain": [
       "<Figure size 640x480 with 1 Axes>"
      ]
     },
     "metadata": {},
     "output_type": "display_data"
    }
   ],
   "source": [
    "np.log1p(train_df.trip_duration).hist(bins=30)"
   ]
  },
  {
   "cell_type": "markdown",
   "id": "bc865dd4",
   "metadata": {},
   "source": [
    "Следует предсказывать не абсолютный trip_duration, а логарифм trip_duration, иногда это помогает сильно улучшить качество модели, если таргеты распределены нормально"
   ]
  },
  {
   "cell_type": "markdown",
   "id": "78c25078",
   "metadata": {},
   "source": [
    "Для этого следует обновить trip_duration, создать новый trip_duration. Обновляю и в test и в train"
   ]
  },
  {
   "cell_type": "code",
   "execution_count": 44,
   "id": "00622819",
   "metadata": {},
   "outputs": [
    {
     "name": "stderr",
     "output_type": "stream",
     "text": [
      "/var/folders/s7/zz5l021j7jq0d45kqm669ntm0000gn/T/ipykernel_1137/389882633.py:1: SettingWithCopyWarning: \n",
      "A value is trying to be set on a copy of a slice from a DataFrame.\n",
      "Try using .loc[row_indexer,col_indexer] = value instead\n",
      "\n",
      "See the caveats in the documentation: https://pandas.pydata.org/pandas-docs/stable/user_guide/indexing.html#returning-a-view-versus-a-copy\n",
      "  train_df['log_trip_duration'] = np.log1p(train_df.trip_duration)\n",
      "/var/folders/s7/zz5l021j7jq0d45kqm669ntm0000gn/T/ipykernel_1137/389882633.py:2: SettingWithCopyWarning: \n",
      "A value is trying to be set on a copy of a slice from a DataFrame.\n",
      "Try using .loc[row_indexer,col_indexer] = value instead\n",
      "\n",
      "See the caveats in the documentation: https://pandas.pydata.org/pandas-docs/stable/user_guide/indexing.html#returning-a-view-versus-a-copy\n",
      "  test_df['log_trip_duration'] = np.log1p(test_df.trip_duration)\n"
     ]
    }
   ],
   "source": [
    "train_df['log_trip_duration'] = np.log1p(train_df.trip_duration)\n",
    "test_df['log_trip_duration'] = np.log1p(test_df.trip_duration)"
   ]
  }
 ],
 "metadata": {
  "kernelspec": {
   "display_name": "Python 3",
   "language": "python",
   "name": "python3"
  },
  "language_info": {
   "codemirror_mode": {
    "name": "ipython",
    "version": 3
   },
   "file_extension": ".py",
   "mimetype": "text/x-python",
   "name": "python",
   "nbconvert_exporter": "python",
   "pygments_lexer": "ipython3",
   "version": "3.12.8"
  }
 },
 "nbformat": 4,
 "nbformat_minor": 5
}
