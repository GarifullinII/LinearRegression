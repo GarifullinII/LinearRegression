{
 "cells": [
  {
   "cell_type": "markdown",
   "id": "ea4005dc",
   "metadata": {},
   "source": [
    "Предсказание длительности поездки на такси"
   ]
  },
  {
   "cell_type": "code",
   "execution_count": 26,
   "id": "245b8523",
   "metadata": {},
   "outputs": [
    {
     "name": "stdout",
     "output_type": "stream",
     "text": [
      "✅ kaggle.json успешно установлен!\n"
     ]
    }
   ],
   "source": [
    "import os\n",
    "import shutil\n",
    "\n",
    "source = \"/Users/ildargarifullin/Developer/work python/LinearRegression/kaggle.json\"\n",
    "\n",
    "destination_dir = os.path.expanduser(\"~/.kaggle\")\n",
    "destination = os.path.join(destination_dir, \"kaggle.json\")\n",
    "\n",
    "os.makedirs(destination_dir, exist_ok=True)\n",
    "\n",
    "shutil.copy(source, destination)\n",
    "\n",
    "os.chmod(destination, 0o600)\n",
    "\n",
    "print(\"✅ kaggle.json успешно установлен!\")\n"
   ]
  },
  {
   "cell_type": "code",
   "execution_count": 27,
   "id": "a40e01e5",
   "metadata": {},
   "outputs": [
    {
     "name": "stdout",
     "output_type": "stream",
     "text": [
      "Requirement already satisfied: kaggle in /Library/Frameworks/Python.framework/Versions/3.13/lib/python3.13/site-packages (1.7.4.5)\n",
      "Requirement already satisfied: bleach in /Library/Frameworks/Python.framework/Versions/3.13/lib/python3.13/site-packages (from kaggle) (6.2.0)\n",
      "Requirement already satisfied: certifi>=14.05.14 in /Library/Frameworks/Python.framework/Versions/3.13/lib/python3.13/site-packages (from kaggle) (2025.10.5)\n",
      "Requirement already satisfied: charset-normalizer in /Library/Frameworks/Python.framework/Versions/3.13/lib/python3.13/site-packages (from kaggle) (3.4.1)\n",
      "Requirement already satisfied: idna in /Library/Frameworks/Python.framework/Versions/3.13/lib/python3.13/site-packages (from kaggle) (3.10)\n",
      "Requirement already satisfied: protobuf in /Library/Frameworks/Python.framework/Versions/3.13/lib/python3.13/site-packages (from kaggle) (6.32.1)\n",
      "Requirement already satisfied: python-dateutil>=2.5.3 in /Library/Frameworks/Python.framework/Versions/3.13/lib/python3.13/site-packages (from kaggle) (2.9.0.post0)\n",
      "Requirement already satisfied: python-slugify in /Library/Frameworks/Python.framework/Versions/3.13/lib/python3.13/site-packages (from kaggle) (8.0.4)\n",
      "Requirement already satisfied: requests in /Library/Frameworks/Python.framework/Versions/3.13/lib/python3.13/site-packages (from kaggle) (2.32.3)\n",
      "Requirement already satisfied: setuptools>=21.0.0 in /Library/Frameworks/Python.framework/Versions/3.13/lib/python3.13/site-packages (from kaggle) (75.8.0)\n",
      "Requirement already satisfied: six>=1.10 in /Library/Frameworks/Python.framework/Versions/3.13/lib/python3.13/site-packages (from kaggle) (1.17.0)\n",
      "Requirement already satisfied: text-unidecode in /Library/Frameworks/Python.framework/Versions/3.13/lib/python3.13/site-packages (from kaggle) (1.3)\n",
      "Requirement already satisfied: tqdm in /Library/Frameworks/Python.framework/Versions/3.13/lib/python3.13/site-packages (from kaggle) (4.67.1)\n",
      "Requirement already satisfied: urllib3>=1.15.1 in /Library/Frameworks/Python.framework/Versions/3.13/lib/python3.13/site-packages (from kaggle) (2.3.0)\n",
      "Requirement already satisfied: webencodings in /Library/Frameworks/Python.framework/Versions/3.13/lib/python3.13/site-packages (from kaggle) (0.5.1)\n",
      "\n",
      "\u001b[1m[\u001b[0m\u001b[34;49mnotice\u001b[0m\u001b[1;39;49m]\u001b[0m\u001b[39;49m A new release of pip is available: \u001b[0m\u001b[31;49m24.3.1\u001b[0m\u001b[39;49m -> \u001b[0m\u001b[32;49m25.2\u001b[0m\n",
      "\u001b[1m[\u001b[0m\u001b[34;49mnotice\u001b[0m\u001b[1;39;49m]\u001b[0m\u001b[39;49m To update, run: \u001b[0m\u001b[32;49mpip3.13 install --upgrade pip\u001b[0m\n",
      "Note: you may need to restart the kernel to use updated packages.\n"
     ]
    }
   ],
   "source": [
    "%pip install kaggle"
   ]
  },
  {
   "cell_type": "code",
   "execution_count": 28,
   "id": "8eaf93e9",
   "metadata": {},
   "outputs": [
    {
     "name": "stdout",
     "output_type": "stream",
     "text": [
      "ref                                                           title                                                    size  lastUpdated                 downloadCount  voteCount  usabilityRating  \n",
      "------------------------------------------------------------  -------------------------------------------------  ----------  --------------------------  -------------  ---------  ---------------  \n",
      "ahmadrazakashif/bmw-worldwide-sales-records-20102024          BMW Worldwide Sales Records (2010–2024)                853348  2025-09-20 14:39:45.280000           9645        213  1.0              \n",
      "ahmeduzaki/global-earthquake-tsunami-risk-assessment-dataset  Global Earthquake-Tsunami Risk Assessment Dataset       16151  2025-10-01 16:35:53.273000           3490        125  1.0              \n",
      "jockeroika/life-style-data                                    Life Style Data                                       3995645  2025-10-14 13:50:45.303000           4756        112  0.8235294        \n",
      "jaderz/hospital-beds-management                               Hospital Beds Management                                47583  2025-10-03 09:21:58.590000           2882         77  1.0              \n",
      "grandmaster07/student-exam-score-dataset-analysis             Student exam score dataset analysis                      2430  2025-09-26 07:44:12.677000           4134         91  1.0              \n",
      "anassarfraz13/coffee-sales-dataset                            Coffee Sales Dataset                                    38970  2025-09-23 09:50:57.187000           3327         73  1.0              \n",
      "raghavdharwal/amazon-ml-challenge-2025                        Amazon ML Challenge 2025                             49977798  2025-10-11 01:51:41.403000            939         24  1.0              \n",
      "emanfatima2025/youtube-music-hits-top-100-of-2025             YouTube Music Hits: Top 100 of 2025                     78598  2025-09-28 16:33:54.697000           1121         23  1.0              \n",
      "Traceback (most recent call last):\n",
      "  File \u001b[35m\"/Library/Frameworks/Python.framework/Versions/3.13/lib/python3.13/site-packages/kaggle/cli.py\"\u001b[0m, line \u001b[35m68\u001b[0m, in \u001b[35mmain\u001b[0m\n",
      "    out = args.func(**command_args)\n",
      "  File \u001b[35m\"/Library/Frameworks/Python.framework/Versions/3.13/lib/python3.13/site-packages/kaggle/api/kaggle_api_extended.py\"\u001b[0m, line \u001b[35m1370\u001b[0m, in \u001b[35mdataset_list_cli\u001b[0m\n",
      "    \u001b[31mself.print_table\u001b[0m\u001b[1;31m(datasets, self.dataset_fields, self.dataset_labels)\u001b[0m\n",
      "    \u001b[31m~~~~~~~~~~~~~~~~\u001b[0m\u001b[1;31m^^^^^^^^^^^^^^^^^^^^^^^^^^^^^^^^^^^^^^^^^^^^^^^^^^^^\u001b[0m\n",
      "  File \u001b[35m\"/Library/Frameworks/Python.framework/Versions/3.13/lib/python3.13/site-packages/kaggle/api/kaggle_api_extended.py\"\u001b[0m, line \u001b[35m4065\u001b[0m, in \u001b[35mprint_table\u001b[0m\n",
      "    \u001b[31mprint\u001b[0m\u001b[1;31m(row_format.format(*i_fields))\u001b[0m\n",
      "    \u001b[31m~~~~~\u001b[0m\u001b[1;31m^^^^^^^^^^^^^^^^^^^^^^^^^^^^^^\u001b[0m\n",
      "\u001b[1;35mBrokenPipeError\u001b[0m: \u001b[35m[Errno 32] Broken pipe\u001b[0m\n",
      "\n",
      "During handling of the above exception, another exception occurred:\n",
      "\n",
      "Traceback (most recent call last):\n",
      "  File \u001b[35m\"/Library/Frameworks/Python.framework/Versions/3.13/bin/kaggle\"\u001b[0m, line \u001b[35m8\u001b[0m, in \u001b[35m<module>\u001b[0m\n",
      "    sys.exit(\u001b[31mmain\u001b[0m\u001b[1;31m()\u001b[0m)\n",
      "             \u001b[31m~~~~\u001b[0m\u001b[1;31m^^\u001b[0m\n",
      "  File \u001b[35m\"/Library/Frameworks/Python.framework/Versions/3.13/lib/python3.13/site-packages/kaggle/cli.py\"\u001b[0m, line \u001b[35m70\u001b[0m, in \u001b[35mmain\u001b[0m\n",
      "    \u001b[31mprint\u001b[0m\u001b[1;31m(e)\u001b[0m\n",
      "    \u001b[31m~~~~~\u001b[0m\u001b[1;31m^^^\u001b[0m\n",
      "\u001b[1;35mBrokenPipeError\u001b[0m: \u001b[35m[Errno 32] Broken pipe\u001b[0m\n"
     ]
    }
   ],
   "source": [
    "!kaggle datasets list | head"
   ]
  },
  {
   "cell_type": "code",
   "execution_count": 29,
   "id": "3f459a94",
   "metadata": {},
   "outputs": [
    {
     "name": "stdout",
     "output_type": "stream",
     "text": [
      "nyc-taxi-trip-duration.zip: Skipping, found more recently modified local copy (use --force to force download)\n"
     ]
    }
   ],
   "source": [
    "!kaggle competitions download -c nyc-taxi-trip-duration"
   ]
  },
  {
   "cell_type": "markdown",
   "id": "89492ae6",
   "metadata": {},
   "source": [
    "Распакую полученные данные"
   ]
  },
  {
   "cell_type": "code",
   "execution_count": 29,
   "id": "89664dc6",
   "metadata": {},
   "outputs": [
    {
     "name": "stdout",
     "output_type": "stream",
     "text": [
      "Archive:  nyc-taxi-trip-duration.zip\n",
      "  inflating: sample_submission.zip   \n",
      "  inflating: test.zip                \n",
      "  inflating: train.zip               \n"
     ]
    }
   ],
   "source": [
    "!unzip nyc-taxi-trip-duration.zip"
   ]
  },
  {
   "cell_type": "markdown",
   "id": "3ea0e1de",
   "metadata": {},
   "source": [
    "Работа только с train частью, тк там есть значения предсказываемой переменной"
   ]
  },
  {
   "cell_type": "code",
   "execution_count": 30,
   "id": "e695e739",
   "metadata": {},
   "outputs": [],
   "source": [
    "import pandas as pd\n",
    "import seaborn as sns\n",
    "from matplotlib import pyplot as plt\n",
    "\n",
    "df = pd.read_csv('train.zip', compression='zip', header=0, sep=',', quotechar='\"')"
   ]
  },
  {
   "cell_type": "code",
   "execution_count": 31,
   "id": "13604f3b",
   "metadata": {},
   "outputs": [
    {
     "data": {
      "text/html": [
       "<div>\n",
       "<style scoped>\n",
       "    .dataframe tbody tr th:only-of-type {\n",
       "        vertical-align: middle;\n",
       "    }\n",
       "\n",
       "    .dataframe tbody tr th {\n",
       "        vertical-align: top;\n",
       "    }\n",
       "\n",
       "    .dataframe thead th {\n",
       "        text-align: right;\n",
       "    }\n",
       "</style>\n",
       "<table border=\"1\" class=\"dataframe\">\n",
       "  <thead>\n",
       "    <tr style=\"text-align: right;\">\n",
       "      <th></th>\n",
       "      <th>id</th>\n",
       "      <th>vendor_id</th>\n",
       "      <th>pickup_datetime</th>\n",
       "      <th>dropoff_datetime</th>\n",
       "      <th>passenger_count</th>\n",
       "      <th>pickup_longitude</th>\n",
       "      <th>pickup_latitude</th>\n",
       "      <th>dropoff_longitude</th>\n",
       "      <th>dropoff_latitude</th>\n",
       "      <th>store_and_fwd_flag</th>\n",
       "      <th>trip_duration</th>\n",
       "    </tr>\n",
       "  </thead>\n",
       "  <tbody>\n",
       "    <tr>\n",
       "      <th>0</th>\n",
       "      <td>id2875421</td>\n",
       "      <td>2</td>\n",
       "      <td>2016-03-14 17:24:55</td>\n",
       "      <td>2016-03-14 17:32:30</td>\n",
       "      <td>1</td>\n",
       "      <td>-73.982155</td>\n",
       "      <td>40.767937</td>\n",
       "      <td>-73.964630</td>\n",
       "      <td>40.765602</td>\n",
       "      <td>N</td>\n",
       "      <td>455</td>\n",
       "    </tr>\n",
       "    <tr>\n",
       "      <th>1</th>\n",
       "      <td>id2377394</td>\n",
       "      <td>1</td>\n",
       "      <td>2016-06-12 00:43:35</td>\n",
       "      <td>2016-06-12 00:54:38</td>\n",
       "      <td>1</td>\n",
       "      <td>-73.980415</td>\n",
       "      <td>40.738564</td>\n",
       "      <td>-73.999481</td>\n",
       "      <td>40.731152</td>\n",
       "      <td>N</td>\n",
       "      <td>663</td>\n",
       "    </tr>\n",
       "    <tr>\n",
       "      <th>2</th>\n",
       "      <td>id3858529</td>\n",
       "      <td>2</td>\n",
       "      <td>2016-01-19 11:35:24</td>\n",
       "      <td>2016-01-19 12:10:48</td>\n",
       "      <td>1</td>\n",
       "      <td>-73.979027</td>\n",
       "      <td>40.763939</td>\n",
       "      <td>-74.005333</td>\n",
       "      <td>40.710087</td>\n",
       "      <td>N</td>\n",
       "      <td>2124</td>\n",
       "    </tr>\n",
       "    <tr>\n",
       "      <th>3</th>\n",
       "      <td>id3504673</td>\n",
       "      <td>2</td>\n",
       "      <td>2016-04-06 19:32:31</td>\n",
       "      <td>2016-04-06 19:39:40</td>\n",
       "      <td>1</td>\n",
       "      <td>-74.010040</td>\n",
       "      <td>40.719971</td>\n",
       "      <td>-74.012268</td>\n",
       "      <td>40.706718</td>\n",
       "      <td>N</td>\n",
       "      <td>429</td>\n",
       "    </tr>\n",
       "    <tr>\n",
       "      <th>4</th>\n",
       "      <td>id2181028</td>\n",
       "      <td>2</td>\n",
       "      <td>2016-03-26 13:30:55</td>\n",
       "      <td>2016-03-26 13:38:10</td>\n",
       "      <td>1</td>\n",
       "      <td>-73.973053</td>\n",
       "      <td>40.793209</td>\n",
       "      <td>-73.972923</td>\n",
       "      <td>40.782520</td>\n",
       "      <td>N</td>\n",
       "      <td>435</td>\n",
       "    </tr>\n",
       "  </tbody>\n",
       "</table>\n",
       "</div>"
      ],
      "text/plain": [
       "          id  vendor_id      pickup_datetime     dropoff_datetime  \\\n",
       "0  id2875421          2  2016-03-14 17:24:55  2016-03-14 17:32:30   \n",
       "1  id2377394          1  2016-06-12 00:43:35  2016-06-12 00:54:38   \n",
       "2  id3858529          2  2016-01-19 11:35:24  2016-01-19 12:10:48   \n",
       "3  id3504673          2  2016-04-06 19:32:31  2016-04-06 19:39:40   \n",
       "4  id2181028          2  2016-03-26 13:30:55  2016-03-26 13:38:10   \n",
       "\n",
       "   passenger_count  pickup_longitude  pickup_latitude  dropoff_longitude  \\\n",
       "0                1        -73.982155        40.767937         -73.964630   \n",
       "1                1        -73.980415        40.738564         -73.999481   \n",
       "2                1        -73.979027        40.763939         -74.005333   \n",
       "3                1        -74.010040        40.719971         -74.012268   \n",
       "4                1        -73.973053        40.793209         -73.972923   \n",
       "\n",
       "   dropoff_latitude store_and_fwd_flag  trip_duration  \n",
       "0         40.765602                  N            455  \n",
       "1         40.731152                  N            663  \n",
       "2         40.710087                  N           2124  \n",
       "3         40.706718                  N            429  \n",
       "4         40.782520                  N            435  "
      ]
     },
     "execution_count": 31,
     "metadata": {},
     "output_type": "execute_result"
    }
   ],
   "source": [
    "df.head()"
   ]
  },
  {
   "cell_type": "markdown",
   "id": "44ae4c79",
   "metadata": {},
   "source": [
    "Следует удалить столбец dropoff_datetime тк это время конца поездки, зная его и время начала поездки, можно легко вычилить время поездки"
   ]
  },
  {
   "cell_type": "markdown",
   "id": "efdc46f6",
   "metadata": {},
   "source": [
    "Во время предсказания время окончания поездки (dropoff_datetime) не может быть доступно"
   ]
  },
  {
   "cell_type": "code",
   "execution_count": 32,
   "id": "7ce42fb0",
   "metadata": {},
   "outputs": [],
   "source": [
    "df = df.drop('dropoff_datetime', axis=1)"
   ]
  },
  {
   "cell_type": "markdown",
   "id": "50d9a94a",
   "metadata": {},
   "source": [
    "Когда у данных есть дата, появляется временная размерность. Разбиение данных на train и test становится не очевидным. Тк строить модель мы хотим по прошлым данным и работать с ней в будущем. Для train данные берем начиная с какой-то даты до некотрой заранее обусловленной и для test пойдут данные (поездки), которые произошли после этой обусловленной даты"
   ]
  },
  {
   "cell_type": "markdown",
   "id": "e9a98314",
   "metadata": {},
   "source": [
    "Возможно сортировка данных по определенному столбцу, в нашем случае по дате начала поездки"
   ]
  },
  {
   "cell_type": "code",
   "execution_count": 33,
   "id": "e61304a8",
   "metadata": {},
   "outputs": [],
   "source": [
    "df = df.sort_values(by='pickup_datetime')"
   ]
  },
  {
   "cell_type": "markdown",
   "id": "d9e77fdf",
   "metadata": {},
   "source": [
    "Разбиваю данные на train и test"
   ]
  },
  {
   "cell_type": "code",
   "execution_count": 34,
   "id": "ee04ef6f",
   "metadata": {},
   "outputs": [],
   "source": [
    "train_df, test_df = df[:10 ** 6], df[10 ** 6:]"
   ]
  },
  {
   "cell_type": "code",
   "execution_count": 36,
   "id": "a64e06a0",
   "metadata": {},
   "outputs": [
    {
     "data": {
      "text/plain": [
       "(458644, 1000000)"
      ]
     },
     "execution_count": 36,
     "metadata": {},
     "output_type": "execute_result"
    }
   ],
   "source": [
    "len(test_df), len(train_df)"
   ]
  },
  {
   "cell_type": "markdown",
   "id": "a6479d53",
   "metadata": {},
   "source": [
    "Распределение target переменной "
   ]
  },
  {
   "cell_type": "code",
   "execution_count": 37,
   "id": "35a01290",
   "metadata": {},
   "outputs": [
    {
     "data": {
      "text/plain": [
       "<Axes: >"
      ]
     },
     "execution_count": 37,
     "metadata": {},
     "output_type": "execute_result"
    },
    {
     "data": {
      "image/png": "[encoded data removed]",
      "text/plain": [
       "<Figure size 640x480 with 1 Axes>"
      ]
     },
     "metadata": {},
     "output_type": "display_data"
    }
   ],
   "source": [
    "train_df.trip_duration.hist(bins=30)"
   ]
  },
  {
   "cell_type": "markdown",
   "id": "eb5ab4d2",
   "metadata": {},
   "source": [
    "Если данные сконцентрированы в самом начале (0) и имеют большие выбросы, то полезно посмотреть на логарифм этих данных, который может дать более подробное представление о том, как эти данные устроены"
   ]
  },
  {
   "cell_type": "code",
   "execution_count": 38,
   "id": "7fb6e634",
   "metadata": {},
   "outputs": [],
   "source": [
    "import numpy as np"
   ]
  },
  {
   "cell_type": "markdown",
   "id": "cd0d43cd",
   "metadata": {},
   "source": [
    "log1p() - логариф + 1, для того чтобы увидеть данные, которые содержат 0. Например поездка завершилась сразу же (отказ от поездки и прочее). Чтобы не получить log 0 прибавляю единицу"
   ]
  },
  {
   "cell_type": "code",
   "execution_count": 39,
   "id": "e5f80b89",
   "metadata": {},
   "outputs": [
    {
     "data": {
      "text/plain": [
       "<Axes: >"
      ]
     },
     "execution_count": 39,
     "metadata": {},
     "output_type": "execute_result"
    },
    {
     "data": {
      "image/png": "[encoded data removed]",
      "text/plain": [
       "<Figure size 640x480 with 1 Axes>"
      ]
     },
     "metadata": {},
     "output_type": "display_data"
    }
   ],
   "source": [
    "np.log1p(train_df.trip_duration).hist(bins=30)"
   ]
  },
  {
   "cell_type": "markdown",
   "id": "bc865dd4",
   "metadata": {},
   "source": [
    "Следует предсказывать не абсолютный trip_duration, а логарифм trip_duration, иногда это помогает сильно улучшить качество модели, если таргеты распределены нормально"
   ]
  },
  {
   "cell_type": "markdown",
   "id": "78c25078",
   "metadata": {},
   "source": [
    "Для этого следует обновить trip_duration, создать новый trip_duration. Обновляю и в test и в train"
   ]
  },
  {
   "cell_type": "code",
   "execution_count": 40,
   "id": "00622819",
   "metadata": {},
   "outputs": [
    {
     "name": "stderr",
     "output_type": "stream",
     "text": [
      "/var/folders/s7/zz5l021j7jq0d45kqm669ntm0000gn/T/ipykernel_12401/389882633.py:1: SettingWithCopyWarning: \n",
      "A value is trying to be set on a copy of a slice from a DataFrame.\n",
      "Try using .loc[row_indexer,col_indexer] = value instead\n",
      "\n",
      "See the caveats in the documentation: https://pandas.pydata.org/pandas-docs/stable/user_guide/indexing.html#returning-a-view-versus-a-copy\n",
      "  train_df['log_trip_duration'] = np.log1p(train_df.trip_duration)\n",
      "/var/folders/s7/zz5l021j7jq0d45kqm669ntm0000gn/T/ipykernel_12401/389882633.py:2: SettingWithCopyWarning: \n",
      "A value is trying to be set on a copy of a slice from a DataFrame.\n",
      "Try using .loc[row_indexer,col_indexer] = value instead\n",
      "\n",
      "See the caveats in the documentation: https://pandas.pydata.org/pandas-docs/stable/user_guide/indexing.html#returning-a-view-versus-a-copy\n",
      "  test_df['log_trip_duration'] = np.log1p(test_df.trip_duration)\n"
     ]
    }
   ],
   "source": [
    "train_df['log_trip_duration'] = np.log1p(train_df.trip_duration)\n",
    "test_df['log_trip_duration'] = np.log1p(test_df.trip_duration)"
   ]
  },
  {
   "cell_type": "markdown",
   "id": "347e9a07",
   "metadata": {},
   "source": [
    "Предсказание времени поездки в зависимости от времени и местоположения "
   ]
  },
  {
   "cell_type": "markdown",
   "id": "c0cb797b",
   "metadata": {},
   "source": [
    "Связь дня поездки и количества заказов в этот день"
   ]
  },
  {
   "cell_type": "markdown",
   "id": "a90eb97f",
   "metadata": {},
   "source": [
    "Требуется предобработка"
   ]
  },
  {
   "cell_type": "code",
   "execution_count": 41,
   "id": "efc3d68f",
   "metadata": {},
   "outputs": [
    {
     "data": {
      "text/plain": [
       "627458     2016-05-04 03:16:14\n",
       "1114651    2016-05-04 03:16:27\n",
       "932402     2016-05-04 03:16:27\n",
       "398435     2016-05-04 03:16:39\n",
       "449737     2016-05-04 03:17:00\n",
       "                  ...         \n",
       "853710     2016-06-30 23:58:52\n",
       "419031     2016-06-30 23:59:09\n",
       "1008720    2016-06-30 23:59:10\n",
       "405743     2016-06-30 23:59:37\n",
       "500524     2016-06-30 23:59:39\n",
       "Name: pickup_datetime, Length: 458644, dtype: object"
      ]
     },
     "execution_count": 41,
     "metadata": {},
     "output_type": "execute_result"
    }
   ],
   "source": [
    "train_df.pickup_datetime\n",
    "test_df.pickup_datetime"
   ]
  },
  {
   "cell_type": "markdown",
   "id": "6998e658",
   "metadata": {},
   "source": [
    "Получаем строковые данные, преобразуем их в объекты"
   ]
  },
  {
   "cell_type": "code",
   "execution_count": 42,
   "id": "8b8c7823",
   "metadata": {},
   "outputs": [
    {
     "name": "stderr",
     "output_type": "stream",
     "text": [
      "/var/folders/s7/zz5l021j7jq0d45kqm669ntm0000gn/T/ipykernel_12401/1515786248.py:1: SettingWithCopyWarning: \n",
      "A value is trying to be set on a copy of a slice from a DataFrame.\n",
      "Try using .loc[row_indexer,col_indexer] = value instead\n",
      "\n",
      "See the caveats in the documentation: https://pandas.pydata.org/pandas-docs/stable/user_guide/indexing.html#returning-a-view-versus-a-copy\n",
      "  train_df.pickup_datetime = pd.to_datetime(train_df.pickup_datetime)\n",
      "/var/folders/s7/zz5l021j7jq0d45kqm669ntm0000gn/T/ipykernel_12401/1515786248.py:2: SettingWithCopyWarning: \n",
      "A value is trying to be set on a copy of a slice from a DataFrame.\n",
      "Try using .loc[row_indexer,col_indexer] = value instead\n",
      "\n",
      "See the caveats in the documentation: https://pandas.pydata.org/pandas-docs/stable/user_guide/indexing.html#returning-a-view-versus-a-copy\n",
      "  test_df.pickup_datetime = pd.to_datetime(test_df.pickup_datetime)\n"
     ]
    }
   ],
   "source": [
    "train_df.pickup_datetime = pd.to_datetime(train_df.pickup_datetime)\n",
    "test_df.pickup_datetime = pd.to_datetime(test_df.pickup_datetime)"
   ]
  },
  {
   "cell_type": "code",
   "execution_count": 43,
   "id": "2f61957e",
   "metadata": {},
   "outputs": [
    {
     "data": {
      "text/plain": [
       "Timestamp('2016-03-14 17:24:55')"
      ]
     },
     "execution_count": 43,
     "metadata": {},
     "output_type": "execute_result"
    }
   ],
   "source": [
    "train_df.pickup_datetime[0]"
   ]
  },
  {
   "cell_type": "markdown",
   "id": "486625da",
   "metadata": {},
   "source": [
    "Получу часы"
   ]
  },
  {
   "cell_type": "code",
   "execution_count": 44,
   "id": "f010c2a7",
   "metadata": {},
   "outputs": [
    {
     "data": {
      "text/plain": [
       "17"
      ]
     },
     "execution_count": 44,
     "metadata": {},
     "output_type": "execute_result"
    }
   ],
   "source": [
    "train_df.pickup_datetime[0].hour"
   ]
  },
  {
   "cell_type": "markdown",
   "id": "1b3ec999",
   "metadata": {},
   "source": [
    "Получу день"
   ]
  },
  {
   "cell_type": "code",
   "execution_count": 45,
   "id": "b62c9f04",
   "metadata": {},
   "outputs": [
    {
     "data": {
      "text/plain": [
       "14"
      ]
     },
     "execution_count": 45,
     "metadata": {},
     "output_type": "execute_result"
    }
   ],
   "source": [
    "train_df.pickup_datetime[0].day"
   ]
  },
  {
   "cell_type": "markdown",
   "id": "282a1c78",
   "metadata": {},
   "source": [
    "График числа поездок по дням"
   ]
  },
  {
   "cell_type": "markdown",
   "id": "32476640",
   "metadata": {},
   "source": [
    "Даты поездок"
   ]
  },
  {
   "cell_type": "code",
   "execution_count": 46,
   "id": "bfd22f25",
   "metadata": {},
   "outputs": [],
   "source": [
    "date = train_df.pickup_datetime.apply(lambda x: x.date())"
   ]
  },
  {
   "cell_type": "markdown",
   "id": "b9ed3724",
   "metadata": {},
   "source": [
    "Создаю специальный график с подсчетом количества поездок каждый день sns.countplot(дата поездок)"
   ]
  },
  {
   "cell_type": "markdown",
   "id": "d5103d41",
   "metadata": {},
   "source": [
    "Также подпишу в какую дату была поездка"
   ]
  },
  {
   "cell_type": "code",
   "execution_count": 47,
   "id": "1c746192",
   "metadata": {},
   "outputs": [
    {
     "name": "stderr",
     "output_type": "stream",
     "text": [
      "/var/folders/s7/zz5l021j7jq0d45kqm669ntm0000gn/T/ipykernel_12401/2154590775.py:3: UserWarning: set_ticklabels() should only be used with a fixed number of ticks, i.e. after set_ticks() or using a FixedLocator.\n",
      "  date_count_plot.set_xticklabels(date_count_plot.get_xticklabels(), rotation = 90)\n"
     ]
    },
    {
     "data": {
      "text/plain": [
       "[Text(0, 0, '2016-01-01'),\n",
       " Text(1, 0, '2016-01-02'),\n",
       " Text(2, 0, '2016-01-03'),\n",
       " Text(3, 0, '2016-01-04'),\n",
       " Text(4, 0, '2016-01-05'),\n",
       " Text(5, 0, '2016-01-06'),\n",
       " Text(6, 0, '2016-01-07'),\n",
       " Text(7, 0, '2016-01-08'),\n",
       " Text(8, 0, '2016-01-09'),\n",
       " Text(9, 0, '2016-01-10'),\n",
       " Text(10, 0, '2016-01-11'),\n",
       " Text(11, 0, '2016-01-12'),\n",
       " Text(12, 0, '2016-01-13'),\n",
       " Text(13, 0, '2016-01-14'),\n",
       " Text(14, 0, '2016-01-15'),\n",
       " Text(15, 0, '2016-01-16'),\n",
       " Text(16, 0, '2016-01-17'),\n",
       " Text(17, 0, '2016-01-18'),\n",
       " Text(18, 0, '2016-01-19'),\n",
       " Text(19, 0, '2016-01-20'),\n",
       " Text(20, 0, '2016-01-21'),\n",
       " Text(21, 0, '2016-01-22'),\n",
       " Text(22, 0, '2016-01-23'),\n",
       " Text(23, 0, '2016-01-24'),\n",
       " Text(24, 0, '2016-01-25'),\n",
       " Text(25, 0, '2016-01-26'),\n",
       " Text(26, 0, '2016-01-27'),\n",
       " Text(27, 0, '2016-01-28'),\n",
       " Text(28, 0, '2016-01-29'),\n",
       " Text(29, 0, '2016-01-30'),\n",
       " Text(30, 0, '2016-01-31'),\n",
       " Text(31, 0, '2016-02-01'),\n",
       " Text(32, 0, '2016-02-02'),\n",
       " Text(33, 0, '2016-02-03'),\n",
       " Text(34, 0, '2016-02-04'),\n",
       " Text(35, 0, '2016-02-05'),\n",
       " Text(36, 0, '2016-02-06'),\n",
       " Text(37, 0, '2016-02-07'),\n",
       " Text(38, 0, '2016-02-08'),\n",
       " Text(39, 0, '2016-02-09'),\n",
       " Text(40, 0, '2016-02-10'),\n",
       " Text(41, 0, '2016-02-11'),\n",
       " Text(42, 0, '2016-02-12'),\n",
       " Text(43, 0, '2016-02-13'),\n",
       " Text(44, 0, '2016-02-14'),\n",
       " Text(45, 0, '2016-02-15'),\n",
       " Text(46, 0, '2016-02-16'),\n",
       " Text(47, 0, '2016-02-17'),\n",
       " Text(48, 0, '2016-02-18'),\n",
       " Text(49, 0, '2016-02-19'),\n",
       " Text(50, 0, '2016-02-20'),\n",
       " Text(51, 0, '2016-02-21'),\n",
       " Text(52, 0, '2016-02-22'),\n",
       " Text(53, 0, '2016-02-23'),\n",
       " Text(54, 0, '2016-02-24'),\n",
       " Text(55, 0, '2016-02-25'),\n",
       " Text(56, 0, '2016-02-26'),\n",
       " Text(57, 0, '2016-02-27'),\n",
       " Text(58, 0, '2016-02-28'),\n",
       " Text(59, 0, '2016-02-29'),\n",
       " Text(60, 0, '2016-03-01'),\n",
       " Text(61, 0, '2016-03-02'),\n",
       " Text(62, 0, '2016-03-03'),\n",
       " Text(63, 0, '2016-03-04'),\n",
       " Text(64, 0, '2016-03-05'),\n",
       " Text(65, 0, '2016-03-06'),\n",
       " Text(66, 0, '2016-03-07'),\n",
       " Text(67, 0, '2016-03-08'),\n",
       " Text(68, 0, '2016-03-09'),\n",
       " Text(69, 0, '2016-03-10'),\n",
       " Text(70, 0, '2016-03-11'),\n",
       " Text(71, 0, '2016-03-12'),\n",
       " Text(72, 0, '2016-03-13'),\n",
       " Text(73, 0, '2016-03-14'),\n",
       " Text(74, 0, '2016-03-15'),\n",
       " Text(75, 0, '2016-03-16'),\n",
       " Text(76, 0, '2016-03-17'),\n",
       " Text(77, 0, '2016-03-18'),\n",
       " Text(78, 0, '2016-03-19'),\n",
       " Text(79, 0, '2016-03-20'),\n",
       " Text(80, 0, '2016-03-21'),\n",
       " Text(81, 0, '2016-03-22'),\n",
       " Text(82, 0, '2016-03-23'),\n",
       " Text(83, 0, '2016-03-24'),\n",
       " Text(84, 0, '2016-03-25'),\n",
       " Text(85, 0, '2016-03-26'),\n",
       " Text(86, 0, '2016-03-27'),\n",
       " Text(87, 0, '2016-03-28'),\n",
       " Text(88, 0, '2016-03-29'),\n",
       " Text(89, 0, '2016-03-30'),\n",
       " Text(90, 0, '2016-03-31'),\n",
       " Text(91, 0, '2016-04-01'),\n",
       " Text(92, 0, '2016-04-02'),\n",
       " Text(93, 0, '2016-04-03'),\n",
       " Text(94, 0, '2016-04-04'),\n",
       " Text(95, 0, '2016-04-05'),\n",
       " Text(96, 0, '2016-04-06'),\n",
       " Text(97, 0, '2016-04-07'),\n",
       " Text(98, 0, '2016-04-08'),\n",
       " Text(99, 0, '2016-04-09'),\n",
       " Text(100, 0, '2016-04-10'),\n",
       " Text(101, 0, '2016-04-11'),\n",
       " Text(102, 0, '2016-04-12'),\n",
       " Text(103, 0, '2016-04-13'),\n",
       " Text(104, 0, '2016-04-14'),\n",
       " Text(105, 0, '2016-04-15'),\n",
       " Text(106, 0, '2016-04-16'),\n",
       " Text(107, 0, '2016-04-17'),\n",
       " Text(108, 0, '2016-04-18'),\n",
       " Text(109, 0, '2016-04-19'),\n",
       " Text(110, 0, '2016-04-20'),\n",
       " Text(111, 0, '2016-04-21'),\n",
       " Text(112, 0, '2016-04-22'),\n",
       " Text(113, 0, '2016-04-23'),\n",
       " Text(114, 0, '2016-04-24'),\n",
       " Text(115, 0, '2016-04-25'),\n",
       " Text(116, 0, '2016-04-26'),\n",
       " Text(117, 0, '2016-04-27'),\n",
       " Text(118, 0, '2016-04-28'),\n",
       " Text(119, 0, '2016-04-29'),\n",
       " Text(120, 0, '2016-04-30'),\n",
       " Text(121, 0, '2016-05-01'),\n",
       " Text(122, 0, '2016-05-02'),\n",
       " Text(123, 0, '2016-05-03'),\n",
       " Text(124, 0, '2016-05-04')]"
      ]
     },
     "execution_count": 47,
     "metadata": {},
     "output_type": "execute_result"
    },
    {
     "data": {
      "image/png": "[encoded data removed]",
      "text/plain": [
       "<Figure size 2500x500 with 1 Axes>"
      ]
     },
     "metadata": {},
     "output_type": "display_data"
    }
   ],
   "source": [
    "plt.figure(figsize=(25, 5))\n",
    "date_count_plot = sns.countplot(x = date)\n",
    "date_count_plot.set_xticklabels(date_count_plot.get_xticklabels(), rotation = 90)"
   ]
  },
  {
   "cell_type": "markdown",
   "id": "fc0e198e",
   "metadata": {},
   "source": [
    "Требуется убедиться, что переменные используемые для предсказания связаны со средней длиной поездки. В качестве признака можно использовать день. Убедимся, что в зависимости от дня меняется время поездки"
   ]
  },
  {
   "cell_type": "markdown",
   "id": "8912dcdb",
   "metadata": {},
   "source": [
    "Группирую данные по дате"
   ]
  },
  {
   "cell_type": "code",
   "execution_count": 48,
   "id": "ee8980e8",
   "metadata": {},
   "outputs": [],
   "source": [
    "grouped_train = train_df.groupby(by = date)"
   ]
  },
  {
   "cell_type": "markdown",
   "id": "d1d80b72",
   "metadata": {},
   "source": [
    "Создам график зависимости средней длины поездки от дня"
   ]
  },
  {
   "cell_type": "code",
   "execution_count": 49,
   "id": "73df518b",
   "metadata": {},
   "outputs": [
    {
     "data": {
      "text/plain": [
       "<seaborn.axisgrid.FacetGrid at 0x16dd4b8c0>"
      ]
     },
     "execution_count": 49,
     "metadata": {},
     "output_type": "execute_result"
    },
    {
     "data": {
      "image/png": "[encoded data removed]",
      "text/plain": [
       "<Figure size 500x500 with 1 Axes>"
      ]
     },
     "metadata": {},
     "output_type": "display_data"
    }
   ],
   "source": [
    "sns.relplot(data=grouped_train.log_trip_duration.aggregate('mean'), kind='line')"
   ]
  },
  {
   "cell_type": "markdown",
   "id": "1d5b5956",
   "metadata": {},
   "source": [
    "Вывод: день поездки важный признак. Наблюдается сезонность, повторяющиеся временные паттерны. Период неделя"
   ]
  },
  {
   "cell_type": "markdown",
   "id": "87e625fb",
   "metadata": {},
   "source": [
    "Функция подготовки матрицы для обучения. Принимает data_frame, а возвращает матрицу для обучения и target переменную"
   ]
  },
  {
   "cell_type": "code",
   "execution_count": 50,
   "id": "79b87a7c",
   "metadata": {},
   "outputs": [],
   "source": [
    "import datetime\n",
    "\n",
    "def create_features(data_frame):\n",
    "    X = pd.concat([ # матрица Х, которая будет являться конкатенацией нескольких столбцов\n",
    "        data_frame.pickup_datetime.apply(lambda x: x.timetuple().tm_yday),\n",
    "        # признак день в году (в линейной регрессии должна быть вещественная переменная)\n",
    "        # для каждого элемента pickup_datetime получу объект timetuple, .tm_yday - поле содержит номер дня в году даты с которой работаю\n",
    "        data_frame.pickup_datetime.apply(lambda x: x.hour) \n",
    "        # час, когда был произведен заказ\n",
    "    ], axis=1, \n",
    "    # по умолчанию конкатенация вдоль строк, мне надо вдоль столбцов axis=1\n",
    "    keys=['day', 'hour']\n",
    "    # называю столбцы 'day' и 'hour'\n",
    "    )\n",
    "    \n",
    "    return X, data_frame.log_trip_duration"
   ]
  },
  {
   "cell_type": "markdown",
   "id": "e4d2be0c",
   "metadata": {},
   "source": [
    "Обучаю на обучающей выборке"
   ]
  },
  {
   "cell_type": "code",
   "execution_count": 51,
   "id": "064cb043",
   "metadata": {},
   "outputs": [],
   "source": [
    "X_train, y_train = create_features(train_df)"
   ]
  },
  {
   "cell_type": "code",
   "execution_count": 52,
   "id": "6f6afc5d",
   "metadata": {},
   "outputs": [
    {
     "data": {
      "text/plain": [
       "96469      6.745236\n",
       "223872     7.166266\n",
       "713067     6.013715\n",
       "652463     5.638355\n",
       "722901     6.602588\n",
       "             ...   \n",
       "1384418    6.735780\n",
       "1100978    4.927254\n",
       "630885     6.910751\n",
       "567651     5.247024\n",
       "777457     5.062595\n",
       "Name: log_trip_duration, Length: 1000000, dtype: float64"
      ]
     },
     "execution_count": 52,
     "metadata": {},
     "output_type": "execute_result"
    }
   ],
   "source": [
    "y_train # логарифмы длины поездок"
   ]
  },
  {
   "cell_type": "code",
   "execution_count": 53,
   "id": "91ec1f64",
   "metadata": {},
   "outputs": [
    {
     "data": {
      "text/html": [
       "<div>\n",
       "<style scoped>\n",
       "    .dataframe tbody tr th:only-of-type {\n",
       "        vertical-align: middle;\n",
       "    }\n",
       "\n",
       "    .dataframe tbody tr th {\n",
       "        vertical-align: top;\n",
       "    }\n",
       "\n",
       "    .dataframe thead th {\n",
       "        text-align: right;\n",
       "    }\n",
       "</style>\n",
       "<table border=\"1\" class=\"dataframe\">\n",
       "  <thead>\n",
       "    <tr style=\"text-align: right;\">\n",
       "      <th></th>\n",
       "      <th>day</th>\n",
       "      <th>hour</th>\n",
       "    </tr>\n",
       "  </thead>\n",
       "  <tbody>\n",
       "    <tr>\n",
       "      <th>96469</th>\n",
       "      <td>1</td>\n",
       "      <td>0</td>\n",
       "    </tr>\n",
       "    <tr>\n",
       "      <th>223872</th>\n",
       "      <td>1</td>\n",
       "      <td>0</td>\n",
       "    </tr>\n",
       "    <tr>\n",
       "      <th>713067</th>\n",
       "      <td>1</td>\n",
       "      <td>0</td>\n",
       "    </tr>\n",
       "    <tr>\n",
       "      <th>652463</th>\n",
       "      <td>1</td>\n",
       "      <td>0</td>\n",
       "    </tr>\n",
       "    <tr>\n",
       "      <th>722901</th>\n",
       "      <td>1</td>\n",
       "      <td>0</td>\n",
       "    </tr>\n",
       "    <tr>\n",
       "      <th>...</th>\n",
       "      <td>...</td>\n",
       "      <td>...</td>\n",
       "    </tr>\n",
       "    <tr>\n",
       "      <th>1384418</th>\n",
       "      <td>125</td>\n",
       "      <td>3</td>\n",
       "    </tr>\n",
       "    <tr>\n",
       "      <th>1100978</th>\n",
       "      <td>125</td>\n",
       "      <td>3</td>\n",
       "    </tr>\n",
       "    <tr>\n",
       "      <th>630885</th>\n",
       "      <td>125</td>\n",
       "      <td>3</td>\n",
       "    </tr>\n",
       "    <tr>\n",
       "      <th>567651</th>\n",
       "      <td>125</td>\n",
       "      <td>3</td>\n",
       "    </tr>\n",
       "    <tr>\n",
       "      <th>777457</th>\n",
       "      <td>125</td>\n",
       "      <td>3</td>\n",
       "    </tr>\n",
       "  </tbody>\n",
       "</table>\n",
       "<p>1000000 rows × 2 columns</p>\n",
       "</div>"
      ],
      "text/plain": [
       "         day  hour\n",
       "96469      1     0\n",
       "223872     1     0\n",
       "713067     1     0\n",
       "652463     1     0\n",
       "722901     1     0\n",
       "...      ...   ...\n",
       "1384418  125     3\n",
       "1100978  125     3\n",
       "630885   125     3\n",
       "567651   125     3\n",
       "777457   125     3\n",
       "\n",
       "[1000000 rows x 2 columns]"
      ]
     },
     "execution_count": 53,
     "metadata": {},
     "output_type": "execute_result"
    }
   ],
   "source": [
    "X_train"
   ]
  },
  {
   "cell_type": "markdown",
   "id": "c3027e7c",
   "metadata": {},
   "source": [
    "Обучение тестовой выборки"
   ]
  },
  {
   "cell_type": "code",
   "execution_count": 64,
   "id": "224c7609",
   "metadata": {},
   "outputs": [],
   "source": [
    "X_train, y_train = create_features(train_df)\n",
    "X_test, y_test = create_features(test_df)"
   ]
  },
  {
   "cell_type": "markdown",
   "id": "542cf91d",
   "metadata": {},
   "source": [
    "День в году это вещественный признак (в будущем не будут дни, которые были в прошлом). С часом иначе, нет понятной зависимости часа от чего либо - час это категориальный признак. Переменная час, хоть и является целым числом, не может трактоваться как вещественная. Дело в том, что после 23 идет 0, и что будет означать коэффициент регрессии в таком случае, совсем не ясно. Поэтому применим к этой переменной one -hot кодирование. В тоже время, переменная день должна остаться вещественной, так как значения из обучающей выборке не встреться нам на тестовом подмножестве"
   ]
  },
  {
   "cell_type": "code",
   "execution_count": 65,
   "id": "c220e8a4",
   "metadata": {},
   "outputs": [],
   "source": [
    "from sklearn.preprocessing import OneHotEncoder\n",
    "from sklearn.compose import ColumnTransformer"
   ]
  },
  {
   "cell_type": "code",
   "execution_count": 67,
   "id": "5b904317",
   "metadata": {},
   "outputs": [],
   "source": [
    "ohe = ColumnTransformer([(\"One hot\", OneHotEncoder(sparse_output=False),[1])], remainder=\"passthrough\")"
   ]
  },
  {
   "cell_type": "code",
   "execution_count": 68,
   "id": "cb91d135",
   "metadata": {},
   "outputs": [],
   "source": [
    "X_train = ohe.fit_transform(X_train)\n",
    "X_test = ohe.transform(X_test)"
   ]
  },
  {
   "cell_type": "code",
   "execution_count": 69,
   "id": "eee7e716",
   "metadata": {},
   "outputs": [
    {
     "data": {
      "text/plain": [
       "(1000000, 25)"
      ]
     },
     "execution_count": 69,
     "metadata": {},
     "output_type": "execute_result"
    }
   ],
   "source": [
    "X_train.shape"
   ]
  },
  {
   "cell_type": "code",
   "execution_count": 70,
   "id": "a5f4ad2a",
   "metadata": {},
   "outputs": [
    {
     "data": {
      "text/plain": [
       "array([[  1.,   0.,   0., ...,   0.,   0.,   1.],\n",
       "       [  1.,   0.,   0., ...,   0.,   0.,   1.],\n",
       "       [  1.,   0.,   0., ...,   0.,   0.,   1.],\n",
       "       ...,\n",
       "       [  0.,   0.,   0., ...,   0.,   0., 125.],\n",
       "       [  0.,   0.,   0., ...,   0.,   0., 125.],\n",
       "       [  0.,   0.,   0., ...,   0.,   0., 125.]])"
      ]
     },
     "execution_count": 70,
     "metadata": {},
     "output_type": "execute_result"
    }
   ],
   "source": [
    "X_train"
   ]
  },
  {
   "cell_type": "markdown",
   "id": "57b4e627",
   "metadata": {},
   "source": [
    "0 столбец поместился в конец, а первые 24 - соответствуют часам от 0 до 23. Первый столбец - 0 час, а 24 столбец - 23 часу"
   ]
  },
  {
   "cell_type": "markdown",
   "id": "906b485f",
   "metadata": {},
   "source": [
    "Теперь в линейной регрессии будет по отдельному коэффициенту на каждый час суток"
   ]
  },
  {
   "cell_type": "markdown",
   "id": "f3e2a77c",
   "metadata": {},
   "source": [
    "Обучение"
   ]
  },
  {
   "cell_type": "code",
   "execution_count": 71,
   "id": "000cf54b",
   "metadata": {},
   "outputs": [],
   "source": [
    "from sklearn.linear_model import LinearRegression"
   ]
  },
  {
   "cell_type": "code",
   "execution_count": 72,
   "id": "21eb62d3",
   "metadata": {},
   "outputs": [],
   "source": [
    "lin_reg = LinearRegression()"
   ]
  },
  {
   "cell_type": "code",
   "execution_count": 73,
   "id": "318939d9",
   "metadata": {},
   "outputs": [
    {
     "data": {
      "text/html": [
       "<style>#sk-container-id-1 {\n",
       "  /* Definition of color scheme common for light and dark mode */\n",
       "  --sklearn-color-text: #000;\n",
       "  --sklearn-color-text-muted: #666;\n",
       "  --sklearn-color-line: gray;\n",
       "  /* Definition of color scheme for unfitted estimators */\n",
       "  --sklearn-color-unfitted-level-0: #fff5e6;\n",
       "  --sklearn-color-unfitted-level-1: #f6e4d2;\n",
       "  --sklearn-color-unfitted-level-2: #ffe0b3;\n",
       "  --sklearn-color-unfitted-level-3: chocolate;\n",
       "  /* Definition of color scheme for fitted estimators */\n",
       "  --sklearn-color-fitted-level-0: #f0f8ff;\n",
       "  --sklearn-color-fitted-level-1: #d4ebff;\n",
       "  --sklearn-color-fitted-level-2: #b3dbfd;\n",
       "  --sklearn-color-fitted-level-3: cornflowerblue;\n",
       "\n",
       "  /* Specific color for light theme */\n",
       "  --sklearn-color-text-on-default-background: var(--sg-text-color, var(--theme-code-foreground, var(--jp-content-font-color1, black)));\n",
       "  --sklearn-color-background: var(--sg-background-color, var(--theme-background, var(--jp-layout-color0, white)));\n",
       "  --sklearn-color-border-box: var(--sg-text-color, var(--theme-code-foreground, var(--jp-content-font-color1, black)));\n",
       "  --sklearn-color-icon: #696969;\n",
       "\n",
       "  @media (prefers-color-scheme: dark) {\n",
       "    /* Redefinition of color scheme for dark theme */\n",
       "    --sklearn-color-text-on-default-background: var(--sg-text-color, var(--theme-code-foreground, var(--jp-content-font-color1, white)));\n",
       "    --sklearn-color-background: var(--sg-background-color, var(--theme-background, var(--jp-layout-color0, #111)));\n",
       "    --sklearn-color-border-box: var(--sg-text-color, var(--theme-code-foreground, var(--jp-content-font-color1, white)));\n",
       "    --sklearn-color-icon: #878787;\n",
       "  }\n",
       "}\n",
       "\n",
       "#sk-container-id-1 {\n",
       "  color: var(--sklearn-color-text);\n",
       "}\n",
       "\n",
       "#sk-container-id-1 pre {\n",
       "  padding: 0;\n",
       "}\n",
       "\n",
       "#sk-container-id-1 input.sk-hidden--visually {\n",
       "  border: 0;\n",
       "  clip: rect(1px 1px 1px 1px);\n",
       "  clip: rect(1px, 1px, 1px, 1px);\n",
       "  height: 1px;\n",
       "  margin: -1px;\n",
       "  overflow: hidden;\n",
       "  padding: 0;\n",
       "  position: absolute;\n",
       "  width: 1px;\n",
       "}\n",
       "\n",
       "#sk-container-id-1 div.sk-dashed-wrapped {\n",
       "  border: 1px dashed var(--sklearn-color-line);\n",
       "  margin: 0 0.4em 0.5em 0.4em;\n",
       "  box-sizing: border-box;\n",
       "  padding-bottom: 0.4em;\n",
       "  background-color: var(--sklearn-color-background);\n",
       "}\n",
       "\n",
       "#sk-container-id-1 div.sk-container {\n",
       "  /* jupyter's `normalize.less` sets `[hidden] { display: none; }`\n",
       "     but bootstrap.min.css set `[hidden] { display: none !important; }`\n",
       "     so we also need the `!important` here to be able to override the\n",
       "     default hidden behavior on the sphinx rendered scikit-learn.org.\n",
       "     See: https://github.com/scikit-learn/scikit-learn/issues/21755 */\n",
       "  display: inline-block !important;\n",
       "  position: relative;\n",
       "}\n",
       "\n",
       "#sk-container-id-1 div.sk-text-repr-fallback {\n",
       "  display: none;\n",
       "}\n",
       "\n",
       "div.sk-parallel-item,\n",
       "div.sk-serial,\n",
       "div.sk-item {\n",
       "  /* draw centered vertical line to link estimators */\n",
       "  background-image: linear-gradient(var(--sklearn-color-text-on-default-background), var(--sklearn-color-text-on-default-background));\n",
       "  background-size: 2px 100%;\n",
       "  background-repeat: no-repeat;\n",
       "  background-position: center center;\n",
       "}\n",
       "\n",
       "/* Parallel-specific style estimator block */\n",
       "\n",
       "#sk-container-id-1 div.sk-parallel-item::after {\n",
       "  content: \"\";\n",
       "  width: 100%;\n",
       "  border-bottom: 2px solid var(--sklearn-color-text-on-default-background);\n",
       "  flex-grow: 1;\n",
       "}\n",
       "\n",
       "#sk-container-id-1 div.sk-parallel {\n",
       "  display: flex;\n",
       "  align-items: stretch;\n",
       "  justify-content: center;\n",
       "  background-color: var(--sklearn-color-background);\n",
       "  position: relative;\n",
       "}\n",
       "\n",
       "#sk-container-id-1 div.sk-parallel-item {\n",
       "  display: flex;\n",
       "  flex-direction: column;\n",
       "}\n",
       "\n",
       "#sk-container-id-1 div.sk-parallel-item:first-child::after {\n",
       "  align-self: flex-end;\n",
       "  width: 50%;\n",
       "}\n",
       "\n",
       "#sk-container-id-1 div.sk-parallel-item:last-child::after {\n",
       "  align-self: flex-start;\n",
       "  width: 50%;\n",
       "}\n",
       "\n",
       "#sk-container-id-1 div.sk-parallel-item:only-child::after {\n",
       "  width: 0;\n",
       "}\n",
       "\n",
       "/* Serial-specific style estimator block */\n",
       "\n",
       "#sk-container-id-1 div.sk-serial {\n",
       "  display: flex;\n",
       "  flex-direction: column;\n",
       "  align-items: center;\n",
       "  background-color: var(--sklearn-color-background);\n",
       "  padding-right: 1em;\n",
       "  padding-left: 1em;\n",
       "}\n",
       "\n",
       "\n",
       "/* Toggleable style: style used for estimator/Pipeline/ColumnTransformer box that is\n",
       "clickable and can be expanded/collapsed.\n",
       "- Pipeline and ColumnTransformer use this feature and define the default style\n",
       "- Estimators will overwrite some part of the style using the `sk-estimator` class\n",
       "*/\n",
       "\n",
       "/* Pipeline and ColumnTransformer style (default) */\n",
       "\n",
       "#sk-container-id-1 div.sk-toggleable {\n",
       "  /* Default theme specific background. It is overwritten whether we have a\n",
       "  specific estimator or a Pipeline/ColumnTransformer */\n",
       "  background-color: var(--sklearn-color-background);\n",
       "}\n",
       "\n",
       "/* Toggleable label */\n",
       "#sk-container-id-1 label.sk-toggleable__label {\n",
       "  cursor: pointer;\n",
       "  display: flex;\n",
       "  width: 100%;\n",
       "  margin-bottom: 0;\n",
       "  padding: 0.5em;\n",
       "  box-sizing: border-box;\n",
       "  text-align: center;\n",
       "  align-items: start;\n",
       "  justify-content: space-between;\n",
       "  gap: 0.5em;\n",
       "}\n",
       "\n",
       "#sk-container-id-1 label.sk-toggleable__label .caption {\n",
       "  font-size: 0.6rem;\n",
       "  font-weight: lighter;\n",
       "  color: var(--sklearn-color-text-muted);\n",
       "}\n",
       "\n",
       "#sk-container-id-1 label.sk-toggleable__label-arrow:before {\n",
       "  /* Arrow on the left of the label */\n",
       "  content: \"▸\";\n",
       "  float: left;\n",
       "  margin-right: 0.25em;\n",
       "  color: var(--sklearn-color-icon);\n",
       "}\n",
       "\n",
       "#sk-container-id-1 label.sk-toggleable__label-arrow:hover:before {\n",
       "  color: var(--sklearn-color-text);\n",
       "}\n",
       "\n",
       "/* Toggleable content - dropdown */\n",
       "\n",
       "#sk-container-id-1 div.sk-toggleable__content {\n",
       "  display: none;\n",
       "  text-align: left;\n",
       "  /* unfitted */\n",
       "  background-color: var(--sklearn-color-unfitted-level-0);\n",
       "}\n",
       "\n",
       "#sk-container-id-1 div.sk-toggleable__content.fitted {\n",
       "  /* fitted */\n",
       "  background-color: var(--sklearn-color-fitted-level-0);\n",
       "}\n",
       "\n",
       "#sk-container-id-1 div.sk-toggleable__content pre {\n",
       "  margin: 0.2em;\n",
       "  border-radius: 0.25em;\n",
       "  color: var(--sklearn-color-text);\n",
       "  /* unfitted */\n",
       "  background-color: var(--sklearn-color-unfitted-level-0);\n",
       "}\n",
       "\n",
       "#sk-container-id-1 div.sk-toggleable__content.fitted pre {\n",
       "  /* unfitted */\n",
       "  background-color: var(--sklearn-color-fitted-level-0);\n",
       "}\n",
       "\n",
       "#sk-container-id-1 input.sk-toggleable__control:checked~div.sk-toggleable__content {\n",
       "  /* Expand drop-down */\n",
       "  display: block;\n",
       "  width: 100%;\n",
       "  overflow: visible;\n",
       "}\n",
       "\n",
       "#sk-container-id-1 input.sk-toggleable__control:checked~label.sk-toggleable__label-arrow:before {\n",
       "  content: \"▾\";\n",
       "}\n",
       "\n",
       "/* Pipeline/ColumnTransformer-specific style */\n",
       "\n",
       "#sk-container-id-1 div.sk-label input.sk-toggleable__control:checked~label.sk-toggleable__label {\n",
       "  color: var(--sklearn-color-text);\n",
       "  background-color: var(--sklearn-color-unfitted-level-2);\n",
       "}\n",
       "\n",
       "#sk-container-id-1 div.sk-label.fitted input.sk-toggleable__control:checked~label.sk-toggleable__label {\n",
       "  background-color: var(--sklearn-color-fitted-level-2);\n",
       "}\n",
       "\n",
       "/* Estimator-specific style */\n",
       "\n",
       "/* Colorize estimator box */\n",
       "#sk-container-id-1 div.sk-estimator input.sk-toggleable__control:checked~label.sk-toggleable__label {\n",
       "  /* unfitted */\n",
       "  background-color: var(--sklearn-color-unfitted-level-2);\n",
       "}\n",
       "\n",
       "#sk-container-id-1 div.sk-estimator.fitted input.sk-toggleable__control:checked~label.sk-toggleable__label {\n",
       "  /* fitted */\n",
       "  background-color: var(--sklearn-color-fitted-level-2);\n",
       "}\n",
       "\n",
       "#sk-container-id-1 div.sk-label label.sk-toggleable__label,\n",
       "#sk-container-id-1 div.sk-label label {\n",
       "  /* The background is the default theme color */\n",
       "  color: var(--sklearn-color-text-on-default-background);\n",
       "}\n",
       "\n",
       "/* On hover, darken the color of the background */\n",
       "#sk-container-id-1 div.sk-label:hover label.sk-toggleable__label {\n",
       "  color: var(--sklearn-color-text);\n",
       "  background-color: var(--sklearn-color-unfitted-level-2);\n",
       "}\n",
       "\n",
       "/* Label box, darken color on hover, fitted */\n",
       "#sk-container-id-1 div.sk-label.fitted:hover label.sk-toggleable__label.fitted {\n",
       "  color: var(--sklearn-color-text);\n",
       "  background-color: var(--sklearn-color-fitted-level-2);\n",
       "}\n",
       "\n",
       "/* Estimator label */\n",
       "\n",
       "#sk-container-id-1 div.sk-label label {\n",
       "  font-family: monospace;\n",
       "  font-weight: bold;\n",
       "  display: inline-block;\n",
       "  line-height: 1.2em;\n",
       "}\n",
       "\n",
       "#sk-container-id-1 div.sk-label-container {\n",
       "  text-align: center;\n",
       "}\n",
       "\n",
       "/* Estimator-specific */\n",
       "#sk-container-id-1 div.sk-estimator {\n",
       "  font-family: monospace;\n",
       "  border: 1px dotted var(--sklearn-color-border-box);\n",
       "  border-radius: 0.25em;\n",
       "  box-sizing: border-box;\n",
       "  margin-bottom: 0.5em;\n",
       "  /* unfitted */\n",
       "  background-color: var(--sklearn-color-unfitted-level-0);\n",
       "}\n",
       "\n",
       "#sk-container-id-1 div.sk-estimator.fitted {\n",
       "  /* fitted */\n",
       "  background-color: var(--sklearn-color-fitted-level-0);\n",
       "}\n",
       "\n",
       "/* on hover */\n",
       "#sk-container-id-1 div.sk-estimator:hover {\n",
       "  /* unfitted */\n",
       "  background-color: var(--sklearn-color-unfitted-level-2);\n",
       "}\n",
       "\n",
       "#sk-container-id-1 div.sk-estimator.fitted:hover {\n",
       "  /* fitted */\n",
       "  background-color: var(--sklearn-color-fitted-level-2);\n",
       "}\n",
       "\n",
       "/* Specification for estimator info (e.g. \"i\" and \"?\") */\n",
       "\n",
       "/* Common style for \"i\" and \"?\" */\n",
       "\n",
       ".sk-estimator-doc-link,\n",
       "a:link.sk-estimator-doc-link,\n",
       "a:visited.sk-estimator-doc-link {\n",
       "  float: right;\n",
       "  font-size: smaller;\n",
       "  line-height: 1em;\n",
       "  font-family: monospace;\n",
       "  background-color: var(--sklearn-color-background);\n",
       "  border-radius: 1em;\n",
       "  height: 1em;\n",
       "  width: 1em;\n",
       "  text-decoration: none !important;\n",
       "  margin-left: 0.5em;\n",
       "  text-align: center;\n",
       "  /* unfitted */\n",
       "  border: var(--sklearn-color-unfitted-level-1) 1pt solid;\n",
       "  color: var(--sklearn-color-unfitted-level-1);\n",
       "}\n",
       "\n",
       ".sk-estimator-doc-link.fitted,\n",
       "a:link.sk-estimator-doc-link.fitted,\n",
       "a:visited.sk-estimator-doc-link.fitted {\n",
       "  /* fitted */\n",
       "  border: var(--sklearn-color-fitted-level-1) 1pt solid;\n",
       "  color: var(--sklearn-color-fitted-level-1);\n",
       "}\n",
       "\n",
       "/* On hover */\n",
       "div.sk-estimator:hover .sk-estimator-doc-link:hover,\n",
       ".sk-estimator-doc-link:hover,\n",
       "div.sk-label-container:hover .sk-estimator-doc-link:hover,\n",
       ".sk-estimator-doc-link:hover {\n",
       "  /* unfitted */\n",
       "  background-color: var(--sklearn-color-unfitted-level-3);\n",
       "  color: var(--sklearn-color-background);\n",
       "  text-decoration: none;\n",
       "}\n",
       "\n",
       "div.sk-estimator.fitted:hover .sk-estimator-doc-link.fitted:hover,\n",
       ".sk-estimator-doc-link.fitted:hover,\n",
       "div.sk-label-container:hover .sk-estimator-doc-link.fitted:hover,\n",
       ".sk-estimator-doc-link.fitted:hover {\n",
       "  /* fitted */\n",
       "  background-color: var(--sklearn-color-fitted-level-3);\n",
       "  color: var(--sklearn-color-background);\n",
       "  text-decoration: none;\n",
       "}\n",
       "\n",
       "/* Span, style for the box shown on hovering the info icon */\n",
       ".sk-estimator-doc-link span {\n",
       "  display: none;\n",
       "  z-index: 9999;\n",
       "  position: relative;\n",
       "  font-weight: normal;\n",
       "  right: .2ex;\n",
       "  padding: .5ex;\n",
       "  margin: .5ex;\n",
       "  width: min-content;\n",
       "  min-width: 20ex;\n",
       "  max-width: 50ex;\n",
       "  color: var(--sklearn-color-text);\n",
       "  box-shadow: 2pt 2pt 4pt #999;\n",
       "  /* unfitted */\n",
       "  background: var(--sklearn-color-unfitted-level-0);\n",
       "  border: .5pt solid var(--sklearn-color-unfitted-level-3);\n",
       "}\n",
       "\n",
       ".sk-estimator-doc-link.fitted span {\n",
       "  /* fitted */\n",
       "  background: var(--sklearn-color-fitted-level-0);\n",
       "  border: var(--sklearn-color-fitted-level-3);\n",
       "}\n",
       "\n",
       ".sk-estimator-doc-link:hover span {\n",
       "  display: block;\n",
       "}\n",
       "\n",
       "/* \"?\"-specific style due to the `<a>` HTML tag */\n",
       "\n",
       "#sk-container-id-1 a.estimator_doc_link {\n",
       "  float: right;\n",
       "  font-size: 1rem;\n",
       "  line-height: 1em;\n",
       "  font-family: monospace;\n",
       "  background-color: var(--sklearn-color-background);\n",
       "  border-radius: 1rem;\n",
       "  height: 1rem;\n",
       "  width: 1rem;\n",
       "  text-decoration: none;\n",
       "  /* unfitted */\n",
       "  color: var(--sklearn-color-unfitted-level-1);\n",
       "  border: var(--sklearn-color-unfitted-level-1) 1pt solid;\n",
       "}\n",
       "\n",
       "#sk-container-id-1 a.estimator_doc_link.fitted {\n",
       "  /* fitted */\n",
       "  border: var(--sklearn-color-fitted-level-1) 1pt solid;\n",
       "  color: var(--sklearn-color-fitted-level-1);\n",
       "}\n",
       "\n",
       "/* On hover */\n",
       "#sk-container-id-1 a.estimator_doc_link:hover {\n",
       "  /* unfitted */\n",
       "  background-color: var(--sklearn-color-unfitted-level-3);\n",
       "  color: var(--sklearn-color-background);\n",
       "  text-decoration: none;\n",
       "}\n",
       "\n",
       "#sk-container-id-1 a.estimator_doc_link.fitted:hover {\n",
       "  /* fitted */\n",
       "  background-color: var(--sklearn-color-fitted-level-3);\n",
       "}\n",
       "\n",
       ".estimator-table summary {\n",
       "    padding: .5rem;\n",
       "    font-family: monospace;\n",
       "    cursor: pointer;\n",
       "}\n",
       "\n",
       ".estimator-table details[open] {\n",
       "    padding-left: 0.1rem;\n",
       "    padding-right: 0.1rem;\n",
       "    padding-bottom: 0.3rem;\n",
       "}\n",
       "\n",
       ".estimator-table .parameters-table {\n",
       "    margin-left: auto !important;\n",
       "    margin-right: auto !important;\n",
       "}\n",
       "\n",
       ".estimator-table .parameters-table tr:nth-child(odd) {\n",
       "    background-color: #fff;\n",
       "}\n",
       "\n",
       ".estimator-table .parameters-table tr:nth-child(even) {\n",
       "    background-color: #f6f6f6;\n",
       "}\n",
       "\n",
       ".estimator-table .parameters-table tr:hover {\n",
       "    background-color: #e0e0e0;\n",
       "}\n",
       "\n",
       ".estimator-table table td {\n",
       "    border: 1px solid rgba(106, 105, 104, 0.232);\n",
       "}\n",
       "\n",
       ".user-set td {\n",
       "    color:rgb(255, 94, 0);\n",
       "    text-align: left;\n",
       "}\n",
       "\n",
       ".user-set td.value pre {\n",
       "    color:rgb(255, 94, 0) !important;\n",
       "    background-color: transparent !important;\n",
       "}\n",
       "\n",
       ".default td {\n",
       "    color: black;\n",
       "    text-align: left;\n",
       "}\n",
       "\n",
       ".user-set td i,\n",
       ".default td i {\n",
       "    color: black;\n",
       "}\n",
       "\n",
       ".copy-paste-icon {\n",
       "    background-image: url(data:image/svg+xml;base64,PHN2ZyB4bWxucz0iaHR0cDovL3d3dy53My5vcmcvMjAwMC9zdmciIHZpZXdCb3g9IjAgMCA0NDggNTEyIj48IS0tIUZvbnQgQXdlc29tZSBGcmVlIDYuNy4yIGJ5IEBmb250YXdlc29tZSAtIGh0dHBzOi8vZm9udGF3ZXNvbWUuY29tIExpY2Vuc2UgLSBodHRwczovL2ZvbnRhd2Vzb21lLmNvbS9saWNlbnNlL2ZyZWUgQ29weXJpZ2h0IDIwMjUgRm9udGljb25zLCBJbmMuLS0+PHBhdGggZD0iTTIwOCAwTDMzMi4xIDBjMTIuNyAwIDI0LjkgNS4xIDMzLjkgMTQuMWw2Ny45IDY3LjljOSA5IDE0LjEgMjEuMiAxNC4xIDMzLjlMNDQ4IDMzNmMwIDI2LjUtMjEuNSA0OC00OCA0OGwtMTkyIDBjLTI2LjUgMC00OC0yMS41LTQ4LTQ4bDAtMjg4YzAtMjYuNSAyMS41LTQ4IDQ4LTQ4ek00OCAxMjhsODAgMCAwIDY0LTY0IDAgMCAyNTYgMTkyIDAgMC0zMiA2NCAwIDAgNDhjMCAyNi41LTIxLjUgNDgtNDggNDhMNDggNTEyYy0yNi41IDAtNDgtMjEuNS00OC00OEwwIDE3NmMwLTI2LjUgMjEuNS00OCA0OC00OHoiLz48L3N2Zz4=);\n",
       "    background-repeat: no-repeat;\n",
       "    background-size: 14px 14px;\n",
       "    background-position: 0;\n",
       "    display: inline-block;\n",
       "    width: 14px;\n",
       "    height: 14px;\n",
       "    cursor: pointer;\n",
       "}\n",
       "</style><body><div id=\"sk-container-id-1\" class=\"sk-top-container\"><div class=\"sk-text-repr-fallback\"><pre>LinearRegression()</pre><b>In a Jupyter environment, please rerun this cell to show the HTML representation or trust the notebook. <br />On GitHub, the HTML representation is unable to render, please try loading this page with nbviewer.org.</b></div><div class=\"sk-container\" hidden><div class=\"sk-item\"><div class=\"sk-estimator fitted sk-toggleable\"><input class=\"sk-toggleable__control sk-hidden--visually\" id=\"sk-estimator-id-1\" type=\"checkbox\" checked><label for=\"sk-estimator-id-1\" class=\"sk-toggleable__label fitted sk-toggleable__label-arrow\"><div><div>LinearRegression</div></div><div><a class=\"sk-estimator-doc-link fitted\" rel=\"noreferrer\" target=\"_blank\" href=\"https://scikit-learn.org/1.7/modules/generated/sklearn.linear_model.LinearRegression.html\">?<span>Documentation for LinearRegression</span></a><span class=\"sk-estimator-doc-link fitted\">i<span>Fitted</span></span></div></label><div class=\"sk-toggleable__content fitted\" data-param-prefix=\"\">\n",
       "        <div class=\"estimator-table\">\n",
       "            <details>\n",
       "                <summary>Parameters</summary>\n",
       "                <table class=\"parameters-table\">\n",
       "                  <tbody>\n",
       "                    \n",
       "        <tr class=\"default\">\n",
       "            <td><i class=\"copy-paste-icon\"\n",
       "                 onclick=\"copyToClipboard('fit_intercept',\n",
       "                          this.parentElement.nextElementSibling)\"\n",
       "            ></i></td>\n",
       "            <td class=\"param\">fit_intercept&nbsp;</td>\n",
       "            <td class=\"value\">True</td>\n",
       "        </tr>\n",
       "    \n",
       "\n",
       "        <tr class=\"default\">\n",
       "            <td><i class=\"copy-paste-icon\"\n",
       "                 onclick=\"copyToClipboard('copy_X',\n",
       "                          this.parentElement.nextElementSibling)\"\n",
       "            ></i></td>\n",
       "            <td class=\"param\">copy_X&nbsp;</td>\n",
       "            <td class=\"value\">True</td>\n",
       "        </tr>\n",
       "    \n",
       "\n",
       "        <tr class=\"default\">\n",
       "            <td><i class=\"copy-paste-icon\"\n",
       "                 onclick=\"copyToClipboard('tol',\n",
       "                          this.parentElement.nextElementSibling)\"\n",
       "            ></i></td>\n",
       "            <td class=\"param\">tol&nbsp;</td>\n",
       "            <td class=\"value\">1e-06</td>\n",
       "        </tr>\n",
       "    \n",
       "\n",
       "        <tr class=\"default\">\n",
       "            <td><i class=\"copy-paste-icon\"\n",
       "                 onclick=\"copyToClipboard('n_jobs',\n",
       "                          this.parentElement.nextElementSibling)\"\n",
       "            ></i></td>\n",
       "            <td class=\"param\">n_jobs&nbsp;</td>\n",
       "            <td class=\"value\">None</td>\n",
       "        </tr>\n",
       "    \n",
       "\n",
       "        <tr class=\"default\">\n",
       "            <td><i class=\"copy-paste-icon\"\n",
       "                 onclick=\"copyToClipboard('positive',\n",
       "                          this.parentElement.nextElementSibling)\"\n",
       "            ></i></td>\n",
       "            <td class=\"param\">positive&nbsp;</td>\n",
       "            <td class=\"value\">False</td>\n",
       "        </tr>\n",
       "    \n",
       "                  </tbody>\n",
       "                </table>\n",
       "            </details>\n",
       "        </div>\n",
       "    </div></div></div></div></div><script>function copyToClipboard(text, element) {\n",
       "    // Get the parameter prefix from the closest toggleable content\n",
       "    const toggleableContent = element.closest('.sk-toggleable__content');\n",
       "    const paramPrefix = toggleableContent ? toggleableContent.dataset.paramPrefix : '';\n",
       "    const fullParamName = paramPrefix ? `${paramPrefix}${text}` : text;\n",
       "\n",
       "    const originalStyle = element.style;\n",
       "    const computedStyle = window.getComputedStyle(element);\n",
       "    const originalWidth = computedStyle.width;\n",
       "    const originalHTML = element.innerHTML.replace('Copied!', '');\n",
       "\n",
       "    navigator.clipboard.writeText(fullParamName)\n",
       "        .then(() => {\n",
       "            element.style.width = originalWidth;\n",
       "            element.style.color = 'green';\n",
       "            element.innerHTML = \"Copied!\";\n",
       "\n",
       "            setTimeout(() => {\n",
       "                element.innerHTML = originalHTML;\n",
       "                element.style = originalStyle;\n",
       "            }, 2000);\n",
       "        })\n",
       "        .catch(err => {\n",
       "            console.error('Failed to copy:', err);\n",
       "            element.style.color = 'red';\n",
       "            element.innerHTML = \"Failed!\";\n",
       "            setTimeout(() => {\n",
       "                element.innerHTML = originalHTML;\n",
       "                element.style = originalStyle;\n",
       "            }, 2000);\n",
       "        });\n",
       "    return false;\n",
       "}\n",
       "\n",
       "document.querySelectorAll('.fa-regular.fa-copy').forEach(function(element) {\n",
       "    const toggleableContent = element.closest('.sk-toggleable__content');\n",
       "    const paramPrefix = toggleableContent ? toggleableContent.dataset.paramPrefix : '';\n",
       "    const paramName = element.parentElement.nextElementSibling.textContent.trim();\n",
       "    const fullParamName = paramPrefix ? `${paramPrefix}${paramName}` : paramName;\n",
       "\n",
       "    element.setAttribute('title', fullParamName);\n",
       "});\n",
       "</script></body>"
      ],
      "text/plain": [
       "LinearRegression()"
      ]
     },
     "execution_count": 73,
     "metadata": {},
     "output_type": "execute_result"
    }
   ],
   "source": [
    "lin_reg.fit(X_train, y_train)"
   ]
  },
  {
   "cell_type": "markdown",
   "id": "be51a589",
   "metadata": {},
   "source": [
    "Измеряю метрику"
   ]
  },
  {
   "cell_type": "code",
   "execution_count": 74,
   "id": "78b643ed",
   "metadata": {},
   "outputs": [],
   "source": [
    "from sklearn.metrics import mean_squared_error"
   ]
  },
  {
   "cell_type": "markdown",
   "id": "e4d59b0e",
   "metadata": {},
   "source": [
    "Получаем ошибку"
   ]
  },
  {
   "cell_type": "code",
   "execution_count": 76,
   "id": "fe1a5b4b",
   "metadata": {},
   "outputs": [
    {
     "data": {
      "text/plain": [
       "0.6538219000582801"
      ]
     },
     "execution_count": 76,
     "metadata": {},
     "output_type": "execute_result"
    }
   ],
   "source": [
    "mean_squared_error(y_test, lin_reg.predict(X_test))"
   ]
  }
 ],
 "metadata": {
  "kernelspec": {
   "display_name": "Python 3",
   "language": "python",
   "name": "python3"
  },
  "language_info": {
   "codemirror_mode": {
    "name": "ipython",
    "version": 3
   },
   "file_extension": ".py",
   "mimetype": "text/x-python",
   "name": "python",
   "nbconvert_exporter": "python",
   "pygments_lexer": "ipython3",
   "version": "3.13.1"
  }
 },
 "nbformat": 4,
 "nbformat_minor": 5
}
